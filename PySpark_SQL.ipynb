{
  "nbformat": 4,
  "nbformat_minor": 0,
  "metadata": {
    "colab": {
      "provenance": [],
      "authorship_tag": "ABX9TyOvaQHi/ke2xDD324X84IFR",
      "include_colab_link": true
    },
    "kernelspec": {
      "name": "python3",
      "display_name": "Python 3"
    },
    "language_info": {
      "name": "python"
    }
  },
  "cells": [
    {
      "cell_type": "markdown",
      "metadata": {
        "id": "view-in-github",
        "colab_type": "text"
      },
      "source": [
        "<a href=\"https://colab.research.google.com/github/sangramkesharidash/Google-Colab-files/blob/main/PySpark_SQL.ipynb\" target=\"_parent\"><img src=\"https://colab.research.google.com/assets/colab-badge.svg\" alt=\"Open In Colab\"/></a>"
      ]
    },
    {
      "cell_type": "code",
      "execution_count": 12,
      "metadata": {
        "id": "HqR1qAMNap8S"
      },
      "outputs": [],
      "source": [
        "## EQUITYDATA - SPARK SQL"
      ]
    },
    {
      "cell_type": "code",
      "source": [
        "from pyspark.sql import SparkSession\n",
        "spark = SparkSession.builder.appName('cluster').getOrCreate()\n",
        "print('Spark Version: {}'.format(spark.version))"
      ],
      "metadata": {
        "colab": {
          "base_uri": "https://localhost:8080/"
        },
        "id": "ob8ZxWixcQt4",
        "outputId": "705335d0-b4b2-4d8f-9a02-1533f1f60c18"
      },
      "execution_count": 13,
      "outputs": [
        {
          "output_type": "stream",
          "name": "stdout",
          "text": [
            "Spark Version: 3.5.5\n"
          ]
        }
      ]
    },
    {
      "cell_type": "code",
      "source": [
        "import pandas as pd\n",
        "import matplotlib.pyplot as plt\n",
        "import numpy as np\n",
        "import re\n",
        "import os\n",
        "from google.colab import drive\n",
        "\n",
        "# Check if Google Drive is mounted; mount if not\n",
        "if not os.path.exists('/content/drive'):\n",
        "    drive.mount('/content/drive')\n",
        "else:\n",
        "    print(\"Google Drive already mounted.\")\n",
        "\n",
        "# Define file path and output folder\n",
        "file_path = '/content/drive/My Drive/equitydata-screener-all-stocks/equitydata-screener-all-stocks-21-APR-2025.csv'\n",
        "print(file_path)\n"
      ],
      "metadata": {
        "colab": {
          "base_uri": "https://localhost:8080/"
        },
        "id": "YlcBwyVibFix",
        "outputId": "a3c095db-ff84-4909-8700-4631d5f6ef57"
      },
      "execution_count": 14,
      "outputs": [
        {
          "output_type": "stream",
          "name": "stdout",
          "text": [
            "Google Drive already mounted.\n",
            "/content/drive/My Drive/equitydata-screener-all-stocks/equitydata-screener-all-stocks-21-APR-2025.csv\n"
          ]
        }
      ]
    },
    {
      "cell_type": "code",
      "source": [
        "from pyspark.sql import SparkSession\n",
        "\n",
        "# Create a SparkSession\n",
        "spark = SparkSession.builder.appName(\"YourAppName\").getOrCreate()\n",
        "\n",
        "# Loading the data\n",
        "dataset = spark.read.csv(file_path, header=True, inferSchema=True)\n",
        "\n",
        "# Show the data in the above file using the below command\n",
        "dataset.show(5)\n",
        "\n",
        "# It's good practice to stop the SparkSession when you're done\n",
        "# spark.stop()"
      ],
      "metadata": {
        "colab": {
          "base_uri": "https://localhost:8080/"
        },
        "id": "y8sdVkFoazqP",
        "outputId": "b71be8b5-6b70-4b4f-e218-476bccc113c2"
      },
      "execution_count": 15,
      "outputs": [
        {
          "output_type": "stream",
          "name": "stdout",
          "text": [
            "+----------------+--------+----------+--------------------+-------------+-------------------+------------------+----------+------------------+---------+----------+-------------------+---------------------+----------------+-------------------+-----+-----+----------------+-----------+-------+--------------------+----------------+-------------+-------------+-----+-------------------------------+-------------------------+------------------+------------------+---------------------------+--------------------------+-------+--------------------+---------------------+--------------------+--------------+--------------+----------------+-------+-------+---------+--------+------------+-------------+-----------------------------------------+-------------+------------------------------+------------------+---------------------+--------------------------+-----------------------+------+-------------------+--------------------+-----------------+------------------------+-----------+------------------+-----------------+----------------+\n",
            "|            Name|BSE Code|  NSE Code|            Industry|Current Price|High price all time|Low price all time|High price|Down from 52w high|Low price|Book value|Price to book value|Market Capitalization|Enterprise Value|Market Cap to Sales|  RSI| MACD|Price to Earning|Industry PE|  Sales|Sales latest quarter|Profit after tax|OPM last year|NPM last year|  OPM|Profit after tax latest quarter|Net Profit latest quarter|OPM latest quarter|NPM latest quarter|YOY Quarterly profit growth|Return on capital employed| Volume|Volume 1week average|Volume 1month average|Historical PE 3Years|Price to Sales|Debt to equity|Return on equity| DMA 50|DMA 200|PEG Ratio|    Debt|Sales growth|Profit growth|Return on capital employed preceding year|From 52w high|Market cap to quarterly profit|NPM preceding year|NPM preceding quarter|NPM preceding year quarter|Sales preceding quarter|Is SME|DMA 50 previous day|DMA 200 previous day|MACD Previous Day|MACD Signal Previous Day|MACD Signal|Return over 1month|Return over 1week|Return over 1day|\n",
            "+----------------+--------+----------+--------------------+-------------+-------------------+------------------+----------+------------------+---------+----------+-------------------+---------------------+----------------+-------------------+-----+-----+----------------+-----------+-------+--------------------+----------------+-------------+-------------+-----+-------------------------------+-------------------------+------------------+------------------+---------------------------+--------------------------+-------+--------------------+---------------------+--------------------+--------------+--------------+----------------+-------+-------+---------+--------+------------+-------------+-----------------------------------------+-------------+------------------------------+------------------+---------------------+--------------------------+-----------------------+------+-------------------+--------------------+-----------------+------------------------+-----------+------------------+-----------------+----------------+\n",
            "|      20 Microns|  533022| 20MICRONS|Mining / Minerals...|       218.62|              348.0|               6.6|     348.0|             37.18|   149.95|    108.72|               2.01|               770.13|          884.95|               0.86|65.23| 4.24|            12.5|      16.69| 897.72|              214.65|           61.62|        13.59|         7.39|12.67|                          13.59|                    12.92|             12.22|              6.35|                      18.37|                      21.7| 109893|              154762|               131416|                9.95|          0.86|          0.34|           17.75| 200.85| 216.42|      0.7|  131.39|       21.57|        16.64|                                    19.27|         0.63|                         56.67|              5.98|                  6.9|                      6.58|                 240.18|     0|             200.12|               216.4|             3.13|                    1.81|        2.3|              7.07|            12.03|            0.11|\n",
            "|21st Cent. Mgmt.|  526921|21STCENMGM|Finance & Investm...|        77.53|             145.05|               2.3|     141.4|             45.17|     42.7|     90.74|               0.85|                82.21|           73.57|               0.59|72.45| 1.59|            2.07|      21.77| 138.59|               -2.18|           39.76|        85.46|        83.36|33.05|                          -3.72|                    -3.72|              NULL|              NULL|                    -123.21|                     78.43|   4014|                5272|                 7685|                1.82|          0.59|           0.0|           86.98|  72.82|  79.45|     0.04|     0.0|      591.91|       415.03|                                   -57.67|         0.55|                         -22.1|              5.63|                 17.2|                     96.68|                  14.01|     0|              72.62|               79.47|              1.2|                    0.08|       0.38|             22.09|             8.24|             2.0|\n",
            "|         360 ONE|  542772|    360ONE|Finance & Investm...|       954.25|             1318.0|             177.5|    1318.0|              27.6|    691.4|    100.65|               9.48|             37546.36|        47384.08|               11.5|54.22|-6.86|           35.08|      21.77|3266.06|              759.83|         1070.28|        58.37|        27.53|55.98|                         276.47|                   276.47|             55.76|             36.39|                      43.91|                     14.47|2295789|             2225298|              1245624|               27.81|          11.5|          2.79|           24.47| 954.78| 983.42|     2.12|10900.59|       46.14|        49.27|                                    13.33|         0.72|                        135.81|             31.99|                28.38|                      30.5|                 865.15|     0|              954.8|              983.71|            -11.3|                  -19.87|     -17.27|              1.22|             9.66|           -0.27|\n",
            "|     3B Blackbio|  532067|      NULL|          Healthcare|       1819.5|             2350.0|              4.81|    2350.0|             22.57|    695.0|    287.37|               6.33|              1561.62|         1495.72|               16.1|57.02|-0.53|           32.55|      54.85|  96.97|               25.39|           47.97|         44.5|        43.29| 53.7|                           13.4|                    13.49|             59.35|             53.13|                      57.46|                     20.95|   2611|                6337|                 5272|               20.02|          16.1|           0.0|           15.42|1776.49|1588.24|     0.75|    0.77|       40.05|        68.37|                                    18.98|         0.77|                        116.54|             41.75|                51.01|                     48.16|                  29.15|     0|            1774.74|             1585.92|            -7.31|                  -20.97|     -16.88|              3.32|             4.76|            2.14|\n",
            "| 3C IT Solutions|  544190|      NULL|Computers - Softw...|        23.49|              52.26|             20.06|     52.26|             55.05|    20.06|     20.93|               1.12|                14.14|           15.41|               0.39|49.28|-0.73|           24.38|      31.11|  35.96|               23.49|            0.58|         7.47|          0.4| 6.28|                          -0.17|                    -0.17|               2.0|             -0.72|                      72.58|                     12.55|   4000|                7000|                 9273|               21.06|          0.39|          0.12|            2.88|   24.8|  31.71|     NULL|    1.51|      -51.82|       -89.47|                                    25.63|         0.45|                        -83.18|              1.84|                 6.01|                      NULL|                  12.47|     1|              24.85|               31.79|            -0.85|                   -0.74|      -0.73|             -2.97|             6.77|            1.95|\n",
            "+----------------+--------+----------+--------------------+-------------+-------------------+------------------+----------+------------------+---------+----------+-------------------+---------------------+----------------+-------------------+-----+-----+----------------+-----------+-------+--------------------+----------------+-------------+-------------+-----+-------------------------------+-------------------------+------------------+------------------+---------------------------+--------------------------+-------+--------------------+---------------------+--------------------+--------------+--------------+----------------+-------+-------+---------+--------+------------+-------------+-----------------------------------------+-------------+------------------------------+------------------+---------------------+--------------------------+-----------------------+------+-------------------+--------------------+-----------------+------------------------+-----------+------------------+-----------------+----------------+\n",
            "only showing top 5 rows\n",
            "\n"
          ]
        }
      ]
    },
    {
      "cell_type": "code",
      "source": [
        "\n",
        "#Print schema\n",
        "#dataset.printSchema()"
      ],
      "metadata": {
        "id": "O5w6BH-jbExj"
      },
      "execution_count": 16,
      "outputs": []
    },
    {
      "cell_type": "code",
      "source": [
        "from pyspark.sql import SparkSession\n",
        "\n",
        "# Define file path (replace with your actual file path if needed)\n",
        "file_path = '/content/drive/My Drive/equitydata-screener-all-stocks/equitydata-screener-all-stocks-20250428.csv'\n",
        "\n",
        "# Create a SparkSession\n",
        "spark = SparkSession.builder.appName(\"IndustryPEAnalysis\").getOrCreate()\n",
        "\n",
        "# Loading the data\n",
        "dataset = spark.read.csv(file_path, header=True, inferSchema=True)\n",
        "\n",
        "# Show the first 5 rows of the data\n",
        "print(\"First 5 rows of the dataset:\")\n",
        "#dataset.show(5)\n",
        "\n",
        "# Print the schema of the DataFrame\n",
        "print(\"Schema of the dataset:\")\n",
        "#dataset.printSchema()\n",
        "\n",
        "# Register the DataFrame as a temporary SQL view\n",
        "dataset.createOrReplaceTempView(\"equity_data\")\n",
        "\n",
        "# Execute SQL query to calculate the average Industry PE for each industry\n",
        "result_df = spark.sql(\"\"\"\n",
        "    SELECT Industry, AVG(`Industry PE`) as Average_Industry_PE\n",
        "    FROM equity_data\n",
        "    GROUP BY Industry\n",
        "    ORDER BY Average_Industry_PE DESC\n",
        "\"\"\")\n",
        "\n",
        "# Show the result\n",
        "print(\"\\nAverage Industry PE by Industry:\")\n",
        "result_df.show(truncate=False)\n",
        "\n",
        "# It's good practice to stop the SparkSession when you're done\n",
        "spark.stop()"
      ],
      "metadata": {
        "colab": {
          "base_uri": "https://localhost:8080/"
        },
        "id": "lxRonz-BnwhB",
        "outputId": "18b08014-e26e-430c-aec1-cfe3140f4c31"
      },
      "execution_count": 17,
      "outputs": [
        {
          "output_type": "stream",
          "name": "stdout",
          "text": [
            "First 5 rows of the dataset:\n",
            "Schema of the dataset:\n",
            "\n",
            "Average Industry PE by Industry:\n",
            "+-------------------------------------+-------------------+\n",
            "|Industry                             |Average_Industry_PE|\n",
            "+-------------------------------------+-------------------+\n",
            "|Cables - Telephone                   |111.73             |\n",
            "|Textile Machinery                    |77.14333333333333  |\n",
            "|Hotels                               |74.94692307692318  |\n",
            "|Air-conditioners                     |71.45              |\n",
            "|Moulded Luggage                      |65.45              |\n",
            "|Leather / Leather Products           |60.950000000000024 |\n",
            "|Food - Processing - MNC              |60.19              |\n",
            "|Healthcare                           |56.070000000000064 |\n",
            "|Telecommunications - Service Provider|56.05736842105263  |\n",
            "|Couriers                             |56.03              |\n",
            "|Cement - South India                 |55.51999999999999  |\n",
            "|Personal Care - Multinational        |54.06              |\n",
            "|Electric Equipment                   |52.78870967741934  |\n",
            "|Domestic Appliances                  |51.53999999999999  |\n",
            "|Automobiles - Motorcycles / Mopeds   |50.99              |\n",
            "|Electronics - Components             |50.888888888888886 |\n",
            "|Abrasives And Grinding Wheels        |50.61              |\n",
            "|Pharmaceuticals - Multinational      |47.35000000000001  |\n",
            "|Cement - North India                 |46.29              |\n",
            "|Compressors / Drilling Equipment     |45.25              |\n",
            "+-------------------------------------+-------------------+\n",
            "only showing top 20 rows\n",
            "\n"
          ]
        }
      ]
    },
    {
      "cell_type": "code",
      "source": [
        "# Create a SparkSession\n",
        "spark = SparkSession.builder.appName(\"PSLQCalculation\").getOrCreate()\n",
        "# Load the data\n",
        "file_path = '/content/drive/My Drive/equitydata-screener-all-stocks/equitydata-screener-all-stocks-20250428.csv' # Replace with your actual file path\n",
        "dataset = spark.read.csv(file_path, header=True, inferSchema=True)\n",
        "# Fill null values with 0 for Market Capitalization and Sales latest quarter\n",
        "dataset = dataset.fillna(0, subset=[\"Market Capitalization\", \"Sales latest quarter\"])\n",
        "\n",
        "# Calculate PSLQ\n",
        "dataset = dataset.withColumn(\n",
        "    \"PSLQ\",\n",
        "    col(\"Market Capitalization\") / (col(\"Sales latest quarter\") * 4)\n",
        ")\n",
        "\n",
        "# Show the first 5 rows with the PSLQ\n",
        "#dataset.select(\"Name\", \"Market Capitalization\", \"Sales latest quarter\", \"PSLQ\").show(5, truncate=False)\n",
        "\n",
        "# Stop the SparkSession\n",
        "#spark.stop()\n",
        "\n",
        "# Register the DataFrame as a temporary SQL view\n",
        "dataset.createOrReplaceTempView(\"equity_data\")\n",
        "\n",
        "# Execute SQL query to calculate the average Industry PE for each industry\n",
        "result_df = spark.sql(\"\"\"\n",
        "    SELECT\n",
        "        Name,\n",
        "        `High price` as `52w High Rs.`,\n",
        "        `Low price` as `52w Low`,\n",
        "        round((`High price` - `Current Price`) / `High price` * 100, 1) as `Down %`,\n",
        "        `Current Price`,\n",
        "        `DMA 200`,\n",
        "        `DMA 50`,\n",
        "        Industry,\n",
        "        `Industry PE`,\n",
        "        round(`Market Capitalization` / Sales, 1) as PS_Ratio,\n",
        "        round(`Market Capitalization` / (`Sales latest quarter` * 4), 1) as `PS_LastQtr`,\n",
        "        round(`Sales latest quarter` / (`Profit after tax latest quarter` * 4), 1) as LastQtr_PAT_Pct\n",
        "    FROM\n",
        "        equity_data\n",
        "    WHERE\n",
        "\n",
        "\"\"\")\n",
        "\n",
        "# Industry IN ('Banks - Private Sector') AND `Current Price` < `DMA 200`\n",
        "\n",
        "# Show the result\n",
        "print(\"\\nAverage Industry PE by Industry:\")\n",
        "result_df.show(truncate=False)\n",
        "\n",
        "# It's good practice to stop the SparkSession when you're done\n",
        "#spark.stop()"
      ],
      "metadata": {
        "colab": {
          "base_uri": "https://localhost:8080/"
        },
        "id": "NP0288TSpFCE",
        "outputId": "2daf7c59-a784-4f76-8084-c47f6ec7d28d"
      },
      "execution_count": 43,
      "outputs": [
        {
          "output_type": "stream",
          "name": "stdout",
          "text": [
            "\n",
            "Average Industry PE by Industry:\n",
            "+----------------+------------+--------+------+-------------+--------+--------+-----------------------------------------+-----------+--------+----------+---------------+\n",
            "|Name            |52w High Rs.|52w Low |Down %|Current Price|DMA 200 |DMA 50  |Industry                                 |Industry PE|PS_Ratio|PS_LastQtr|LastQtr_PAT_Pct|\n",
            "+----------------+------------+--------+------+-------------+--------+--------+-----------------------------------------+-----------+--------+----------+---------------+\n",
            "|20 Microns      |348.0       |151.85  |36.9  |219.72       |216.85  |205.21  |Mining / Minerals / Metals               |15.62      |0.9     |0.9       |3.9            |\n",
            "|21st Cent. Mgmt.|141.4       |42.7    |46.1  |76.2         |79.38   |73.75   |Finance & Investments                    |20.31      |0.6     |-9.0      |0.1            |\n",
            "|360 ONE         |1318.0      |691.4   |25.3  |983.9        |984.68  |964.49  |Finance & Investments                    |20.31      |11.7    |11.8      |0.8            |\n",
            "|3B Blackbio     |2350.0      |695.0   |25.5  |1750.6       |1597.27 |1775.73 |Healthcare                               |56.07      |15.5    |14.8      |0.5            |\n",
            "|3C IT Solutions |52.26       |20.06   |33.4  |34.78        |31.6    |25.69   |Computers - Software - Medium / Small    |30.48      |0.6     |0.2       |-34.5          |\n",
            "|3i Infotech     |42.59       |20.0    |44.3  |23.73        |29.03   |23.92   |Computers - Software - Medium / Small    |30.48      |0.5     |0.6       |1.1            |\n",
            "|3M India        |41000.0     |25714.35|28.1  |29495.0      |30722.18|28882.48|Diversified - Large                      |12.89      |7.9     |7.6       |2.4            |\n",
            "|3P Land Hold.   |82.06       |0.0     |48.4  |42.34        |43.9    |43.07   |Finance & Investments                    |20.31      |16.8    |20.2      |0.6            |\n",
            "|52 Weeks Enter. |2.2         |1.34    |29.1  |1.56         |1.65    |1.62    |Entertainment / Electronic Media Software|38.6       |NULL    |NULL      |0.0            |\n",
            "|5Paisa Capital  |607.4       |311.25  |39.5  |367.3        |436.02  |376.21  |Finance & Investments                    |13.88      |2.9     |3.4       |1.3            |\n",
            "|63 Moons Tech.  |1079.85     |313.9   |37.1  |679.25       |642.3   |738.57  |Computers - Software - Medium / Small    |30.48      |32.0    |66.5      |-0.1           |\n",
            "|7NR Retail Ltd  |8.3         |3.8     |40.5  |4.94         |5.08    |4.4     |Trading                                  |41.6       |1.8     |6.9       |1.3            |\n",
            "|7Seas Enter.    |93.49       |35.17   |23.7  |71.29        |70.02   |74.28   |Computers - Software - Medium / Small    |30.48      |10.6    |9.3       |2.2            |\n",
            "|A and M Jumbo   |23.1        |7.6     |67.1  |7.6          |13.14   |12.22   |Packaging                                |22.94      |0.7     |0.3       |49.5           |\n",
            "|A B B           |9200.0      |4590.05 |39.8  |5536.0       |6297.72 |5524.88 |Electric Equipment                       |51.93      |9.6     |8.7       |1.6            |\n",
            "|A B Infrabuild  |109.0       |41.83   |23.8  |83.08        |75.44   |84.35   |Construction                             |20.87      |NULL    |1.8       |3.5            |\n",
            "|A B M Internatl.|110.62      |40.93   |52.2  |52.9         |58.88   |51.48   |Trading                                  |29.18      |0.6     |0.7       |-2.0           |\n",
            "|A B Real Estate |3141.95     |1638.0  |39.6  |1897.5       |2139.38 |1969.85 |Paper                                    |12.59      |4.3     |5.6       |-6.8           |\n",
            "|A F Enterprises |24.75       |3.9     |70.8  |7.22         |11.48   |8.96    |Trading                                  |29.18      |1.9     |1.1       |-10.8          |\n",
            "|A G Universal   |71.1        |38.95   |41.9  |41.3         |56.66   |48.67   |Trading                                  |29.18      |0.3     |0.2       |8.8            |\n",
            "+----------------+------------+--------+------+-------------+--------+--------+-----------------------------------------+-----------+--------+----------+---------------+\n",
            "only showing top 20 rows\n",
            "\n"
          ]
        }
      ]
    },
    {
      "cell_type": "code",
      "source": [
        "# Execute SQL query to calculate the average Industry PE for each industry\n",
        "result_df = spark.sql(\"\"\"\n",
        "    SELECT\n",
        "        Name,\n",
        "        `High price` as `52w High Rs.`,\n",
        "        `Low price` as `52w Low`,\n",
        "        round((`High price` - `Current Price`) / `High price` * 100, 1) as `Down %`,\n",
        "        `Current Price`,\n",
        "        `DMA 200`,\n",
        "        `DMA 50`,\n",
        "        Industry,\n",
        "        `Industry PE`,\n",
        "        round(`Market Capitalization` / Sales, 1) as PS_Ratio,\n",
        "        round(`Market Capitalization` / (`Sales latest quarter` * 4), 1) as `PS_LastQtr`,\n",
        "        round(`Sales latest quarter` / (`Profit after tax latest quarter` * 4), 1) as LastQtr_PAT_Pct\n",
        "    FROM\n",
        "        equity_data\n",
        "    WHERE\n",
        "        Industry IN ('Healthcare') AND `Current Price` < `DMA 200`\n",
        "\n",
        "\"\"\")\n",
        "\n",
        "# Industry IN ('Banks - Private Sector') AND `Current Price` < `DMA 200`\n",
        "\n",
        "# Show the result\n",
        "print(\"\\nAverage Industry PE by Industry:\")\n",
        "result_df.show(truncate=False)\n",
        "\n",
        "# It's good practice to stop the SparkSession when you're done\n",
        "spark.stop()"
      ],
      "metadata": {
        "colab": {
          "base_uri": "https://localhost:8080/"
        },
        "id": "088_aMRuwKcz",
        "outputId": "ffa70fa4-36c7-469d-d3b8-78535be46e14"
      },
      "execution_count": 44,
      "outputs": [
        {
          "output_type": "stream",
          "name": "stdout",
          "text": [
            "\n",
            "Average Industry PE by Industry:\n",
            "+----------------+------------+-------+------+-------------+-------+-------+----------+-----------+--------+----------+---------------+\n",
            "|Name            |52w High Rs.|52w Low|Down %|Current Price|DMA 200|DMA 50 |Industry  |Industry PE|PS_Ratio|PS_LastQtr|LastQtr_PAT_Pct|\n",
            "+----------------+------------+-------+------+-------------+-------+-------+----------+-----------+--------+----------+---------------+\n",
            "|Aatmaj Health   |41.5        |14.5   |53.4  |19.35        |24.36  |18.28  |Healthcare|56.07      |2.8     |1.3       |6.9            |\n",
            "|Adeshwar Meditex|29.98       |15.0   |46.6  |16.0         |24.84  |21.33  |Healthcare|56.07      |0.3     |0.1       |11.4           |\n",
            "|Amkay Products  |120.96      |36.0   |60.7  |47.5         |63.22  |47.61  |Healthcare|56.07      |1.2     |0.6       |2.4            |\n",
            "|Artemis Medicare|350.0       |143.05 |24.6  |264.05       |264.85 |271.99 |Healthcare|56.07      |4.1     |4.0       |2.7            |\n",
            "|Bandaram Pharma |63.14       |28.31  |35.2  |40.91        |42.31  |44.02  |Healthcare|56.07      |1.2     |1.2       |-250.0         |\n",
            "|Broach          |52.36       |0.0    |63.7  |19.0         |34.74  |22.52  |Healthcare|56.07      |4.4     |1.6       |1.0            |\n",
            "|Chennai Meena   |59.9        |28.34  |48.1  |31.1         |37.51  |33.97  |Healthcare|56.07      |0.7     |0.7       |-3.5           |\n",
            "|Clinitech Lab   |120.75      |38.23  |62.6  |45.15        |84.43  |56.22  |Healthcare|56.07      |1.6     |0.6       |4.6            |\n",
            "|Dhanvantri Jeev.|25.2        |16.47  |20.6  |20.0         |20.4   |20.03  |Healthcare|56.07      |0.4     |0.4       |9.5            |\n",
            "|Dr Agarwal's Eye|7300.0      |2800.0 |42.4  |4207.2       |4469.1 |4373.43|Healthcare|56.07      |5.2     |5.2       |2.3            |\n",
            "|Dr Agarwal's Hea|464.0       |361.1  |18.4  |378.55       |407.85 |413.19 |Healthcare|56.07      |9.0     |6.9       |4.8            |\n",
            "|Dr Lalchand. Lab|28.9        |0.0    |60.0  |11.56        |19.24  |14.47  |Healthcare|56.07      |1.2     |0.6       |3.6            |\n",
            "|Family Care     |9.5         |3.4    |51.4  |4.62         |6.34   |4.96   |Healthcare|56.07      |2.1     |208.0     |0.0            |\n",
            "|Gian Lifecare   |26.98       |12.06  |40.8  |15.96        |18.77  |16.91  |Healthcare|56.07      |1.3     |2.1       |3.5            |\n",
            "|Global Longlife |46.44       |18.3   |48.5  |23.9         |32.07  |24.83  |Healthcare|56.07      |43.3    |NULL      |0.0            |\n",
            "|GPT Healthcare  |208.45      |126.1  |22.7  |161.08       |166.03 |156.52 |Healthcare|56.07      |3.3     |3.2       |2.1            |\n",
            "|Hemant Surgical |224.9       |88.15  |54.3  |102.75       |129.2  |107.91 |Healthcare|56.07      |1.0     |0.5       |3.8            |\n",
            "|KK Shah Hospital|59.95       |34.0   |30.1  |41.9         |50.16  |42.85  |Healthcare|56.07      |3.8     |1.8       |2.7            |\n",
            "|KMC Speciality  |95.0        |57.0   |27.1  |69.21        |75.03  |67.72  |Healthcare|56.07      |5.2     |4.6       |2.0            |\n",
            "|Krsnaa Diagnost.|1044.0      |527.55 |28.0  |751.65       |786.82 |782.14 |Healthcare|56.07      |3.6     |3.7       |1.9            |\n",
            "+----------------+------------+-------+------+-------------+-------+-------+----------+-----------+--------+----------+---------------+\n",
            "only showing top 20 rows\n",
            "\n"
          ]
        }
      ]
    },
    {
      "cell_type": "code",
      "source": [],
      "metadata": {
        "id": "3BjxqBrmpFJn"
      },
      "execution_count": null,
      "outputs": []
    }
  ]
}