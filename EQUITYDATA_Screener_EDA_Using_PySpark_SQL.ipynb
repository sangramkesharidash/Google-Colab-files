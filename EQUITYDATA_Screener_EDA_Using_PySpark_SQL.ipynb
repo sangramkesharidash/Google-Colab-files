{
  "nbformat": 4,
  "nbformat_minor": 0,
  "metadata": {
    "colab": {
      "provenance": [],
      "authorship_tag": "ABX9TyOj4ZXebY21s+a8Cu/dD+3o",
      "include_colab_link": true
    },
    "kernelspec": {
      "name": "python3",
      "display_name": "Python 3"
    },
    "language_info": {
      "name": "python"
    }
  },
  "cells": [
    {
      "cell_type": "markdown",
      "metadata": {
        "id": "view-in-github",
        "colab_type": "text"
      },
      "source": [
        "<a href=\"https://colab.research.google.com/github/sangramkesharidash/Google-Colab-files/blob/main/EQUITYDATA_Screener_EDA_Using_PySpark_SQL.ipynb\" target=\"_parent\"><img src=\"https://colab.research.google.com/assets/colab-badge.svg\" alt=\"Open In Colab\"/></a>"
      ]
    },
    {
      "cell_type": "code",
      "execution_count": 52,
      "metadata": {
        "id": "HqR1qAMNap8S"
      },
      "outputs": [],
      "source": [
        "## EQUITYDATA - SPARK SQL"
      ]
    },
    {
      "cell_type": "code",
      "source": [
        "from pyspark.sql import SparkSession\n",
        "spark = SparkSession.builder.appName('cluster').getOrCreate()\n",
        "print('Spark Version: {}'.format(spark.version))"
      ],
      "metadata": {
        "colab": {
          "base_uri": "https://localhost:8080/"
        },
        "id": "ob8ZxWixcQt4",
        "outputId": "1204ffc7-7c02-4ce2-9497-f7e0e0c15aaf"
      },
      "execution_count": 53,
      "outputs": [
        {
          "output_type": "stream",
          "name": "stdout",
          "text": [
            "Spark Version: 3.5.5\n"
          ]
        }
      ]
    },
    {
      "cell_type": "code",
      "source": [
        "import pandas as pd\n",
        "import matplotlib.pyplot as plt\n",
        "import numpy as np\n",
        "import re\n",
        "import os\n",
        "from google.colab import drive\n",
        "\n",
        "# Check if Google Drive is mounted; mount if not\n",
        "if not os.path.exists('/content/drive'):\n",
        "    drive.mount('/content/drive')\n",
        "else:\n",
        "    print(\"Google Drive already mounted.\")\n",
        "\n",
        "# Define file path and output folder\n",
        "file_path = '/content/drive/My Drive/equitydata-screener-all-stocks/equitydata-screener-all-stocks-21-APR-2025.csv'\n",
        "print(file_path)\n"
      ],
      "metadata": {
        "colab": {
          "base_uri": "https://localhost:8080/"
        },
        "id": "YlcBwyVibFix",
        "outputId": "e983aa51-fead-4058-f2da-043680ce8561"
      },
      "execution_count": 54,
      "outputs": [
        {
          "output_type": "stream",
          "name": "stdout",
          "text": [
            "Google Drive already mounted.\n",
            "/content/drive/My Drive/equitydata-screener-all-stocks/equitydata-screener-all-stocks-21-APR-2025.csv\n"
          ]
        }
      ]
    },
    {
      "cell_type": "code",
      "source": [
        "from pyspark.sql import SparkSession\n",
        "\n",
        "# Create a SparkSession\n",
        "spark = SparkSession.builder.appName(\"YourAppName\").getOrCreate()\n",
        "\n",
        "# Loading the data\n",
        "dataset = spark.read.csv(file_path, header=True, inferSchema=True)\n",
        "\n",
        "# Show the data in the above file using the below command\n",
        "#dataset.show(5)\n",
        "\n",
        "# It's good practice to stop the SparkSession when you're done\n",
        "# spark.stop()"
      ],
      "metadata": {
        "id": "y8sdVkFoazqP"
      },
      "execution_count": 61,
      "outputs": []
    },
    {
      "cell_type": "code",
      "source": [
        "\n",
        "#Print schema\n",
        "#dataset.printSchema()"
      ],
      "metadata": {
        "id": "O5w6BH-jbExj"
      },
      "execution_count": 56,
      "outputs": []
    },
    {
      "cell_type": "code",
      "source": [
        "from pyspark.sql import SparkSession\n",
        "\n",
        "# Define file path (replace with your actual file path if needed)\n",
        "file_path = '/content/drive/My Drive/equitydata-screener-all-stocks/equitydata-screener-all-stocks-20250428.csv'\n",
        "\n",
        "# Create a SparkSession\n",
        "spark = SparkSession.builder.appName(\"IndustryPEAnalysis\").getOrCreate()\n",
        "\n",
        "# Loading the data\n",
        "dataset = spark.read.csv(file_path, header=True, inferSchema=True)\n",
        "\n",
        "# Show the first 5 rows of the data\n",
        "print(\"First 5 rows of the dataset:\")\n",
        "#dataset.show(5)\n",
        "\n",
        "# Print the schema of the DataFrame\n",
        "print(\"Schema of the dataset:\")\n",
        "#dataset.printSchema()\n",
        "\n",
        "# Register the DataFrame as a temporary SQL view\n",
        "dataset.createOrReplaceTempView(\"equity_data\")\n",
        "\n",
        "# Execute SQL query to calculate the average Industry PE for each industry\n",
        "result_df = spark.sql(\"\"\"\n",
        "    SELECT\n",
        "    Industry,SUM(`Market Capitalization`) as Total_Market_Capitalization_CR,\n",
        "    COUNT(Name) as Total_Stocks,\n",
        "    AVG(`Industry PE`) as Average_Industry_PE,\n",
        "    ROUND(SUM(CASE WHEN `Price to Earning` < `Industry PE` THEN 1 ELSE 0 END) * 100 / COUNT(Name), 2) as Percentage_Below_Industry_PE\n",
        "FROM\n",
        "    equity_data\n",
        "GROUP BY\n",
        "    Industry\n",
        "ORDER BY\n",
        "    Total_Market_Capitalization_CR DESC\n",
        "\"\"\")\n",
        "\n",
        "# Show the result\n",
        "print(\"\\nAverage Industry PE by Industry:\")\n",
        "result_df.show(truncate=False)\n",
        "\n",
        "# It's good practice to stop the SparkSession when you're done\n",
        "spark.stop()"
      ],
      "metadata": {
        "colab": {
          "base_uri": "https://localhost:8080/"
        },
        "id": "lxRonz-BnwhB",
        "outputId": "d030b065-0745-4498-fb54-60c7d7222311"
      },
      "execution_count": 57,
      "outputs": [
        {
          "output_type": "stream",
          "name": "stdout",
          "text": [
            "First 5 rows of the dataset:\n",
            "Schema of the dataset:\n",
            "\n",
            "Average Industry PE by Industry:\n",
            "+----------------------------------------------+------------------------------+------------+-------------------+----------------------------+\n",
            "|Industry                                      |Total_Market_Capitalization_CR|Total_Stocks|Average_Industry_PE|Percentage_Below_Industry_PE|\n",
            "+----------------------------------------------+------------------------------+------------+-------------------+----------------------------+\n",
            "|Finance & Investments                         |3873902.5499999966            |555         |20.417873873873845 |36.04                       |\n",
            "|Banks - Private Sector                        |3804668.3400000003            |29          |11.899999999999997 |48.28                       |\n",
            "|Computers - Software - Large                  |3026817.02                    |10          |28.92000000000001  |50.0                        |\n",
            "|Refineries                                    |2298536.96                    |8           |21.03              |50.0                        |\n",
            "|Miscellaneous                                 |2094938.3299999982            |460         |30.799671052631563 |38.26                       |\n",
            "|Power Generation And Supply                   |1753550.56                    |39          |31.981578947368416 |38.46                       |\n",
            "|Pharmaceuticals - Indian - Bulk Drugs & Formln|1552870.7300000002            |106         |29.19999999999996  |39.62                       |\n",
            "|Banks - Public Sector                         |1502575.51                    |12          |9.19               |66.67                       |\n",
            "|Telecommunications - Service Provider         |1337689.3499999999            |19          |56.05736842105263  |26.32                       |\n",
            "|Construction                                  |1240039.7200000004            |337         |29.564362017804065 |33.23                       |\n",
            "|Trading                                       |1127624.6100000008            |553         |31.26723327305624  |37.07                       |\n",
            "|Electric Equipment                            |1065594.21                    |93          |52.78870967741934  |43.01                       |\n",
            "|Chemicals                                     |943781.2300000002             |148         |29.15108108108116  |43.92                       |\n",
            "|Automobiles - Passenger Cars                  |874432.94                     |5           |25.71              |40.0                        |\n",
            "|Steel - Large                                 |833012.32                     |17          |17.97              |41.18                       |\n",
            "|Mining / Minerals / Metals                    |829077.06                     |62          |19.170161290322575 |35.48                       |\n",
            "|Cement - North India                          |733951.6                      |17          |46.29              |35.29                       |\n",
            "|Computers - Software - Medium / Small         |695015.0700000003             |243         |30.479999999999816 |39.92                       |\n",
            "|Personal Care - Multinational                 |691079.8                      |4           |54.06              |50.0                        |\n",
            "|Engineering - Turnkey Services                |619681.6                      |57          |30.22767857142861  |45.61                       |\n",
            "+----------------------------------------------+------------------------------+------------+-------------------+----------------------------+\n",
            "only showing top 20 rows\n",
            "\n"
          ]
        }
      ]
    },
    {
      "cell_type": "code",
      "source": [
        "# Create a SparkSession\n",
        "spark = SparkSession.builder.appName(\"PSLQCalculation\").getOrCreate()\n",
        "# Load the data\n",
        "file_path = '/content/drive/My Drive/equitydata-screener-all-stocks/equitydata-screener-all-stocks-20250428.csv' # Replace with your actual file path\n",
        "dataset = spark.read.csv(file_path, header=True, inferSchema=True)\n",
        "# Fill null values with 0 for Market Capitalization and Sales latest quarter\n",
        "dataset = dataset.fillna(0, subset=[\"Market Capitalization\", \"Sales latest quarter\"])\n",
        "\n",
        "# Calculate PSLQ\n",
        "dataset = dataset.withColumn(\n",
        "    \"PSLQ\",\n",
        "    col(\"Market Capitalization\") / (col(\"Sales latest quarter\") * 4)\n",
        ")\n",
        "\n",
        "# Show the first 5 rows with the PSLQ\n",
        "#dataset.select(\"Name\", \"Market Capitalization\", \"Sales latest quarter\", \"PSLQ\").show(5, truncate=False)\n",
        "\n",
        "# Stop the SparkSession\n",
        "#spark.stop()\n",
        "\n",
        "# Register the DataFrame as a temporary SQL view\n",
        "dataset.createOrReplaceTempView(\"equity_data\")\n",
        "\n",
        "# Execute SQL query to calculate the average Industry PE for each industry\n",
        "result_df = spark.sql(\"\"\"\n",
        "    SELECT\n",
        "        Name,\n",
        "        `High price` as `52w High Rs.`,\n",
        "        `Low price` as `52w Low`,\n",
        "        round((`High price` - `Current Price`) / `High price` * 100, 1) as `Down %`,\n",
        "        `Current Price`,\n",
        "        `DMA 200`,\n",
        "        `DMA 50`,\n",
        "        Industry,\n",
        "        `Industry PE`,\n",
        "        round(`Market Capitalization` / Sales, 1) as PS_Ratio,\n",
        "        round(`Market Capitalization` / (`Sales latest quarter` * 4), 1) as `PS_LastQtr`,\n",
        "        round(`Sales latest quarter` / (`Profit after tax latest quarter` * 4), 1) as LastQtr_PAT_Pct\n",
        "    FROM\n",
        "        equity_data\n",
        "    WHERE\n",
        "        Industry IN ('Banks - Private Sector')\n",
        "\n",
        "\"\"\")\n",
        "\n",
        "# Industry IN ('Banks - Private Sector') AND `Current Price` < `DMA 200`\n",
        "\n",
        "# Show the result\n",
        "print(\"\\nAverage Industry PE by Industry:\")\n",
        "result_df.show(truncate=False)\n",
        "\n",
        "# It's good practice to stop the SparkSession when you're done\n",
        "#spark.stop()"
      ],
      "metadata": {
        "colab": {
          "base_uri": "https://localhost:8080/"
        },
        "id": "NP0288TSpFCE",
        "outputId": "39f437a4-0bbf-480c-876f-03382899d535"
      },
      "execution_count": 60,
      "outputs": [
        {
          "output_type": "stream",
          "name": "stdout",
          "text": [
            "\n",
            "Average Industry PE by Industry:\n",
            "+----------------+------------+-------+------+-------------+-------+-------+----------------------+-----------+--------+----------+---------------+\n",
            "|Name            |52w High Rs.|52w Low|Down %|Current Price|DMA 200|DMA 50 |Industry              |Industry PE|PS_Ratio|PS_LastQtr|LastQtr_PAT_Pct|\n",
            "+----------------+------------+-------+------+-------------+-------+-------+----------------------+-----------+--------+----------+---------------+\n",
            "|AU Small Finance|755.4       |478.35 |8.9   |688.4        |599.91 |577.02 |Banks - Private Sector|11.9       |3.2     |3.0       |2.1            |\n",
            "|Axis Bank       |1339.65     |933.5  |11.0  |1192.8       |1097.36|1093.97|Banks - Private Sector|11.9       |2.9     |2.8       |1.1            |\n",
            "|Bandhan Bank    |222.31      |128.15 |26.1  |164.26       |168.16 |152.91 |Banks - Private Sector|11.9       |1.2     |1.2       |3.2            |\n",
            "|Capital Small   |406.7       |250.0  |25.3  |303.75       |301.85 |282.98 |Banks - Private Sector|11.9       |1.6     |1.5       |1.7            |\n",
            "|City Union Bank |187.9       |130.4  |5.0   |178.51       |164.04 |165.67 |Banks - Private Sector|11.9       |2.3     |2.2       |1.3            |\n",
            "|CSB Bank        |403.2       |266.05 |10.3  |361.85       |317.6  |317.99 |Banks - Private Sector|11.9       |1.7     |1.6       |1.3            |\n",
            "|DCB Bank        |145.95      |101.35 |4.5   |139.45       |119.1  |117.48 |Banks - Private Sector|11.9       |0.7     |0.6       |2.5            |\n",
            "|Dhanlaxmi Bank  |38.14       |22.0   |24.9  |28.65        |28.39  |27.52  |Banks - Private Sector|11.9       |0.9     |0.8       |4.2            |\n",
            "|Equitas Sma. Fin|107.8       |52.02  |37.9  |66.97        |70.12  |61.82  |Banks - Private Sector|11.9       |1.3     |1.2       |6.1            |\n",
            "|ESAF Small Fin  |64.5        |24.31  |53.3  |30.13        |39.57  |29.85  |Banks - Private Sector|11.9       |0.4     |0.4       |-1.1           |\n",
            "|Federal Bank    |217.0       |148.0  |7.9   |199.83       |187.64 |191.29 |Banks - Private Sector|11.9       |1.8     |1.7       |1.9            |\n",
            "|Fino Payments   |467.0       |180.5  |44.4  |259.59       |292.69 |246.28 |Banks - Private Sector|11.9       |11.8    |11.0      |0.5            |\n",
            "|HDFC Bank       |1978.9      |1426.8 |3.0   |1920.2       |1717.36|1797.21|Banks - Private Sector|11.9       |4.4     |4.2       |1.2            |\n",
            "|ICICI Bank      |1437.0      |1051.05|0.6   |1428.8       |1251.24|1319.46|Banks - Private Sector|11.9       |5.5     |5.3       |0.9            |\n",
            "|IDBI Bank       |107.98      |65.89  |23.4  |82.72        |79.66  |78.22  |Banks - Private Sector|11.9       |3.1     |3.2       |0.8            |\n",
            "|IDFC First Bank |84.5        |52.46  |21.3  |66.5         |65.78  |60.86  |Banks - Private Sector|11.9       |1.3     |1.3       |8.0            |\n",
            "|IndusInd Bank   |1550.0      |605.4  |46.4  |830.55       |1049.79|814.84 |Banks - Private Sector|11.9       |1.3     |1.3       |2.3            |\n",
            "|J & K Bank      |147.2       |82.01  |34.7  |96.14        |101.45 |97.25  |Banks - Private Sector|11.9       |0.9     |0.8       |1.5            |\n",
            "|Jana Small Finan|760.9       |363.8  |32.1  |516.65       |462.32 |448.69 |Banks - Private Sector|11.9       |1.2     |1.2       |2.7            |\n",
            "|Karnataka Bank  |245.0       |162.2  |17.8  |201.31       |200.05 |185.93 |Banks - Private Sector|11.9       |0.9     |0.8       |2.0            |\n",
            "+----------------+------------+-------+------+-------------+-------+-------+----------------------+-----------+--------+----------+---------------+\n",
            "only showing top 20 rows\n",
            "\n"
          ]
        }
      ]
    },
    {
      "cell_type": "code",
      "source": [
        "# Execute SQL query to calculate the average Industry PE for each industry\n",
        "result_df = spark.sql(\"\"\"\n",
        "    SELECT\n",
        "        Name,\n",
        "        `High price` as `52w High Rs.`,\n",
        "        `Low price` as `52w Low`,\n",
        "        round((`High price` - `Current Price`) / `High price` * 100, 1) as `Down %`,\n",
        "        `Current Price`,\n",
        "        `DMA 200`,\n",
        "        `DMA 50`,\n",
        "        Industry,\n",
        "        `Industry PE`,\n",
        "        round(`Market Capitalization` / Sales, 1) as PS_Ratio,\n",
        "        round(`Market Capitalization` / (`Sales latest quarter` * 4), 1) as `PS_LastQtr`,\n",
        "        round(`Sales latest quarter` / (`Profit after tax latest quarter` * 4), 1) as LastQtr_PAT_Pct\n",
        "    FROM\n",
        "        equity_data\n",
        "    WHERE\n",
        "        Industry IN ('Healthcare') AND `Current Price` < `DMA 200`\n",
        "\n",
        "\"\"\")\n",
        "\n",
        "# Industry IN ('Banks - Private Sector') AND `Current Price` < `DMA 200`\n",
        "\n",
        "# Show the result\n",
        "print(\"\\nAverage Industry PE by Industry:\")\n",
        "result_df.show(truncate=False)\n",
        "\n",
        "# It's good practice to stop the SparkSession when you're done\n",
        "spark.stop()"
      ],
      "metadata": {
        "colab": {
          "base_uri": "https://localhost:8080/"
        },
        "id": "088_aMRuwKcz",
        "outputId": "c717f4fb-a885-475b-a2de-c3421c1411db"
      },
      "execution_count": 59,
      "outputs": [
        {
          "output_type": "stream",
          "name": "stdout",
          "text": [
            "\n",
            "Average Industry PE by Industry:\n",
            "+----------------+------------+-------+------+-------------+-------+-------+----------+-----------+--------+----------+---------------+\n",
            "|Name            |52w High Rs.|52w Low|Down %|Current Price|DMA 200|DMA 50 |Industry  |Industry PE|PS_Ratio|PS_LastQtr|LastQtr_PAT_Pct|\n",
            "+----------------+------------+-------+------+-------------+-------+-------+----------+-----------+--------+----------+---------------+\n",
            "|Aatmaj Health   |41.5        |14.5   |53.4  |19.35        |24.36  |18.28  |Healthcare|56.07      |2.8     |1.3       |6.9            |\n",
            "|Adeshwar Meditex|29.98       |15.0   |46.6  |16.0         |24.84  |21.33  |Healthcare|56.07      |0.3     |0.1       |11.4           |\n",
            "|Amkay Products  |120.96      |36.0   |60.7  |47.5         |63.22  |47.61  |Healthcare|56.07      |1.2     |0.6       |2.4            |\n",
            "|Artemis Medicare|350.0       |143.05 |24.6  |264.05       |264.85 |271.99 |Healthcare|56.07      |4.1     |4.0       |2.7            |\n",
            "|Bandaram Pharma |63.14       |28.31  |35.2  |40.91        |42.31  |44.02  |Healthcare|56.07      |1.2     |1.2       |-250.0         |\n",
            "|Broach          |52.36       |0.0    |63.7  |19.0         |34.74  |22.52  |Healthcare|56.07      |4.4     |1.6       |1.0            |\n",
            "|Chennai Meena   |59.9        |28.34  |48.1  |31.1         |37.51  |33.97  |Healthcare|56.07      |0.7     |0.7       |-3.5           |\n",
            "|Clinitech Lab   |120.75      |38.23  |62.6  |45.15        |84.43  |56.22  |Healthcare|56.07      |1.6     |0.6       |4.6            |\n",
            "|Dhanvantri Jeev.|25.2        |16.47  |20.6  |20.0         |20.4   |20.03  |Healthcare|56.07      |0.4     |0.4       |9.5            |\n",
            "|Dr Agarwal's Eye|7300.0      |2800.0 |42.4  |4207.2       |4469.1 |4373.43|Healthcare|56.07      |5.2     |5.2       |2.3            |\n",
            "|Dr Agarwal's Hea|464.0       |361.1  |18.4  |378.55       |407.85 |413.19 |Healthcare|56.07      |9.0     |6.9       |4.8            |\n",
            "|Dr Lalchand. Lab|28.9        |0.0    |60.0  |11.56        |19.24  |14.47  |Healthcare|56.07      |1.2     |0.6       |3.6            |\n",
            "|Family Care     |9.5         |3.4    |51.4  |4.62         |6.34   |4.96   |Healthcare|56.07      |2.1     |208.0     |0.0            |\n",
            "|Gian Lifecare   |26.98       |12.06  |40.8  |15.96        |18.77  |16.91  |Healthcare|56.07      |1.3     |2.1       |3.5            |\n",
            "|Global Longlife |46.44       |18.3   |48.5  |23.9         |32.07  |24.83  |Healthcare|56.07      |43.3    |NULL      |0.0            |\n",
            "|GPT Healthcare  |208.45      |126.1  |22.7  |161.08       |166.03 |156.52 |Healthcare|56.07      |3.3     |3.2       |2.1            |\n",
            "|Hemant Surgical |224.9       |88.15  |54.3  |102.75       |129.2  |107.91 |Healthcare|56.07      |1.0     |0.5       |3.8            |\n",
            "|KK Shah Hospital|59.95       |34.0   |30.1  |41.9         |50.16  |42.85  |Healthcare|56.07      |3.8     |1.8       |2.7            |\n",
            "|KMC Speciality  |95.0        |57.0   |27.1  |69.21        |75.03  |67.72  |Healthcare|56.07      |5.2     |4.6       |2.0            |\n",
            "|Krsnaa Diagnost.|1044.0      |527.55 |28.0  |751.65       |786.82 |782.14 |Healthcare|56.07      |3.6     |3.7       |1.9            |\n",
            "+----------------+------------+-------+------+-------------+-------+-------+----------+-----------+--------+----------+---------------+\n",
            "only showing top 20 rows\n",
            "\n"
          ]
        }
      ]
    },
    {
      "cell_type": "code",
      "source": [],
      "metadata": {
        "id": "3BjxqBrmpFJn"
      },
      "execution_count": 59,
      "outputs": []
    }
  ]
}